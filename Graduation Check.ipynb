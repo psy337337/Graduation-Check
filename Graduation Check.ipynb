{
 "cells": [
  {
   "cell_type": "code",
   "execution_count": 1,
   "id": "c52a9827",
   "metadata": {
    "collapsed": true
   },
   "outputs": [
    {
     "name": "stderr",
     "output_type": "stream",
     "text": [
      "C:\\Users\\psy33\\AppData\\Local\\Temp/ipykernel_6300/3879185487.py:47: DeprecationWarning: find_element_by_* commands are deprecated. Please use find_element() instead\n",
      "  driver.find_element_by_name('username').send_keys('<아이디/>') #웹정보 아이디\n",
      "C:\\Users\\psy33\\AppData\\Local\\Temp/ipykernel_6300/3879185487.py:48: DeprecationWarning: find_element_by_* commands are deprecated. Please use find_element() instead\n",
      "  driver.find_element_by_name('password').send_keys('<비밀번호/>') #웹정보 비밀번호\n",
      "C:\\Users\\psy33\\AppData\\Local\\Temp/ipykernel_6300/3879185487.py:49: DeprecationWarning: find_element_by_* commands are deprecated. Please use find_element() instead\n",
      "  driver.find_element_by_xpath(login_x_path).click() # 로그인 버튼 클릭\n"
     ]
    },
    {
     "ename": "AttributeError",
     "evalue": "'NoneType' object has no attribute 'find_all'",
     "output_type": "error",
     "traceback": [
      "\u001b[1;31m---------------------------------------------------------------------------\u001b[0m",
      "\u001b[1;31mAttributeError\u001b[0m                            Traceback (most recent call last)",
      "\u001b[1;32m~\\AppData\\Local\\Temp/ipykernel_6300/3879185487.py\u001b[0m in \u001b[0;36m<module>\u001b[1;34m\u001b[0m\n\u001b[0;32m     51\u001b[0m \u001b[1;31m#확인하고 싶은 위치\u001b[0m\u001b[1;33m\u001b[0m\u001b[1;33m\u001b[0m\u001b[0m\n\u001b[0;32m     52\u001b[0m \u001b[0mtarget_url\u001b[0m \u001b[1;33m=\u001b[0m \u001b[1;34m\"https://webinfo.dankook.ac.kr/tiac/univ/grad/gasm/views/findGrdtObjrDscGeneration.do\"\u001b[0m\u001b[1;33m\u001b[0m\u001b[1;33m\u001b[0m\u001b[0m\n\u001b[1;32m---> 53\u001b[1;33m \u001b[0mlists\u001b[0m \u001b[1;33m=\u001b[0m \u001b[0mget_crawl\u001b[0m\u001b[1;33m(\u001b[0m\u001b[0mtarget_url\u001b[0m\u001b[1;33m)\u001b[0m\u001b[1;33m\u001b[0m\u001b[1;33m\u001b[0m\u001b[0m\n\u001b[0m",
      "\u001b[1;32m~\\AppData\\Local\\Temp/ipykernel_6300/3879185487.py\u001b[0m in \u001b[0;36mget_crawl\u001b[1;34m(URL)\u001b[0m\n\u001b[0;32m     32\u001b[0m     \u001b[0msoup7\u001b[0m \u001b[1;33m=\u001b[0m \u001b[0mBeautifulSoup\u001b[0m\u001b[1;33m(\u001b[0m\u001b[0mhtml\u001b[0m\u001b[1;33m,\u001b[0m\u001b[1;34m'html.parser'\u001b[0m\u001b[1;33m)\u001b[0m\u001b[1;33m\u001b[0m\u001b[1;33m\u001b[0m\u001b[0m\n\u001b[0;32m     33\u001b[0m     \u001b[0mex_id_divs\u001b[0m \u001b[1;33m=\u001b[0m \u001b[0msoup7\u001b[0m\u001b[1;33m.\u001b[0m\u001b[0mfind\u001b[0m\u001b[1;33m(\u001b[0m\u001b[1;34m'table'\u001b[0m\u001b[1;33m,\u001b[0m\u001b[1;33m{\u001b[0m\u001b[1;34m'id'\u001b[0m\u001b[1;33m:\u001b[0m\u001b[1;34m'gdasComplSubjDscListTbl'\u001b[0m\u001b[1;33m}\u001b[0m\u001b[1;33m)\u001b[0m \u001b[1;31m#과목들 정리된 표만 가져옴\u001b[0m\u001b[1;33m\u001b[0m\u001b[1;33m\u001b[0m\u001b[0m\n\u001b[1;32m---> 34\u001b[1;33m     \u001b[0mtds\u001b[0m \u001b[1;33m=\u001b[0m \u001b[0mex_id_divs\u001b[0m\u001b[1;33m.\u001b[0m\u001b[0mfind_all\u001b[0m\u001b[1;33m(\u001b[0m\u001b[1;34m'td'\u001b[0m\u001b[1;33m)\u001b[0m \u001b[1;31m# td 태그만\u001b[0m\u001b[1;33m\u001b[0m\u001b[1;33m\u001b[0m\u001b[0m\n\u001b[0m\u001b[0;32m     35\u001b[0m     \u001b[0mcrawl_data\u001b[0m \u001b[1;33m=\u001b[0m \u001b[0mremove_html_tags\u001b[0m\u001b[1;33m(\u001b[0m\u001b[0mtds\u001b[0m\u001b[1;33m)\u001b[0m \u001b[1;31m#태그 지우기\u001b[0m\u001b[1;33m\u001b[0m\u001b[1;33m\u001b[0m\u001b[0m\n\u001b[0;32m     36\u001b[0m     \u001b[0mremove_space\u001b[0m \u001b[1;33m=\u001b[0m \u001b[0mcrawl_data\u001b[0m\u001b[1;33m.\u001b[0m\u001b[0mreplace\u001b[0m\u001b[1;33m(\u001b[0m\u001b[1;34m\" \"\u001b[0m\u001b[1;33m,\u001b[0m\u001b[1;34m\"\"\u001b[0m\u001b[1;33m)\u001b[0m \u001b[1;31m#공백 지우기\u001b[0m\u001b[1;33m\u001b[0m\u001b[1;33m\u001b[0m\u001b[0m\n",
      "\u001b[1;31mAttributeError\u001b[0m: 'NoneType' object has no attribute 'find_all'"
     ]
    }
   ],
   "source": [
    "'''\n",
    "selenium 셀레니움 설치+크롬 드라이버 설치\n",
    "https://chancoding.tistory.com/136\n",
    "\n",
    "참고\n",
    "https://dodonam.tistory.com/228\n",
    "\n",
    "현재 아이디와 비밀번호를 넣지 않아 오류가 발생했음(개인정보라 혹시 몰라서 일부러 오류 발생시킴)\n",
    "\n",
    "'''\n",
    "\n",
    "import pandas as pd\n",
    "from bs4 import BeautifulSoup\n",
    "from selenium import webdriver\n",
    "from selenium.webdriver.chrome.options import Options\n",
    "import re\n",
    "import pandas as pd\n",
    "\n",
    "#웹드라이버 여는 거\n",
    "driver = webdriver.Chrome()\n",
    "\n",
    "#html태그를 지우는거\n",
    "def remove_html_tags(data):\n",
    "    p = re.compile(r'<.*?>') #정규표현식 \n",
    "    #.*? : Non-Greedy / 최소 반복 수행\n",
    "    #< ~~~~ > 이렇게 끝나는 듯 \n",
    "    #https://whatisthenext.tistory.com/116 참고\n",
    "    return p.sub(' ',str(data))\n",
    "    \n",
    "\n",
    "#원하는 표만 태그 지우고 값들만 가져오는 함수\n",
    "def get_crawl(URL):\n",
    "    response = driver.get(URL)\n",
    "    html = driver.page_source\n",
    "    soup7 = BeautifulSoup(html,'html.parser')\n",
    "    ex_id_divs = soup7.find('table',{'id':'gdasComplSubjDscListTbl'}) #과목들 정리된 표만 가져옴\n",
    "    tds = ex_id_divs.find_all('td') # td 태그만\n",
    "    crawl_data = remove_html_tags(tds) #태그 지우기\n",
    "    remove_space = crawl_data.replace(\" \",\"\") #공백 지우기\n",
    "    remove_space = remove_space.strip(\"[\"\"]\") #맨 앞과 맨 뒤에 있던 []지우기\n",
    "    remove_space = remove_space.split(',') #문자열을 리스트로\n",
    "    return remove_space #표에 있는 값들 반환\n",
    "    \n",
    "    \n",
    "    \n",
    "\n",
    "driver.implicitly_wait(3)\n",
    "driver.get('https://webinfo.dankook.ac.kr/member/logon.do') #로그인 홈페이지\n",
    "login_x_path='//*[@id=\"logonForm\"]/div[3]/button' #로그인 버튼 위치\n",
    "driver.find_element_by_name('username').send_keys('<아이디/>') #웹정보 아이디\n",
    "driver.find_element_by_name('password').send_keys('<비밀번호/>') #웹정보 비밀번호\n",
    "driver.find_element_by_xpath(login_x_path).click() # 로그인 버튼 클릭\n",
    "\n",
    "#확인하고 싶은 위치\n",
    "target_url = \"https://webinfo.dankook.ac.kr/tiac/univ/grad/gasm/views/findGrdtObjrDscGeneration.do\"\n",
    "lists = get_crawl(target_url)\n"
   ]
  },
  {
   "cell_type": "code",
   "execution_count": 3,
   "id": "eb75c985",
   "metadata": {},
   "outputs": [],
   "source": [
    "#데이터프레임 생성\n",
    "\n",
    "#기본적인 데이터프레임 생성\n",
    "df = pd.DataFrame([lists[0:9]],index=list(range(1,int(len(lists)/10)+1)))\n",
    "\n",
    "#반복문으로 데이터프레임화\n",
    "for i in range(10,len(lists),10):\n",
    "    df.loc[int(i/10)+1] = lists[i:i+9]\n",
    "#colums 지정\n",
    "df.columns =['전공구분','이수조건','이수영역','교육과정영역','코드','교과목명','이수년도','이수학기','학점']\n",
    "df['학점'] = pd.to_numeric(df['학점']) #문자열 정수로 변경"
   ]
  },
  {
   "cell_type": "code",
   "execution_count": 2,
   "id": "a7373dec",
   "metadata": {
    "collapsed": true
   },
   "outputs": [
    {
     "ename": "NameError",
     "evalue": "name 'df' is not defined",
     "output_type": "error",
     "traceback": [
      "\u001b[1;31m---------------------------------------------------------------------------\u001b[0m",
      "\u001b[1;31mNameError\u001b[0m                                 Traceback (most recent call last)",
      "\u001b[1;32m~\\AppData\\Local\\Temp/ipykernel_6300/1460073826.py\u001b[0m in \u001b[0;36m<module>\u001b[1;34m\u001b[0m\n\u001b[0;32m      1\u001b[0m \u001b[1;31m#데이터 프레임 확인\u001b[0m\u001b[1;33m\u001b[0m\u001b[1;33m\u001b[0m\u001b[0m\n\u001b[1;32m----> 2\u001b[1;33m \u001b[0mdf\u001b[0m\u001b[1;33m\u001b[0m\u001b[1;33m\u001b[0m\u001b[0m\n\u001b[0m",
      "\u001b[1;31mNameError\u001b[0m: name 'df' is not defined"
     ]
    }
   ],
   "source": [
    "#데이터 프레임 확인\n",
    "df"
   ]
  },
  {
   "cell_type": "code",
   "execution_count": 5,
   "id": "34258cdc",
   "metadata": {},
   "outputs": [],
   "source": [
    "#교양, 전공소양, 심화전공, 기타 데이터프레임 생성\n",
    "#추후 필요하면 출력해보기\n",
    "\n",
    "ge_df = df[df['이수조건'].str.contains('교양과정')] #교양 데이터프레임\n",
    "sw_ge_df = df[df['이수조건'].str.contains('전공소양')] #전공소양 데이터프레임\n",
    "major_df = df[df['이수조건'].str.contains('심화전공')] #전공 데이터프레임\n",
    "etc_df = df[~df['이수조건'].str.contains('|'.join(['전공','교양']))] #전공,교양 단어가 들어간거 제외"
   ]
  },
  {
   "cell_type": "code",
   "execution_count": 14,
   "id": "dac1fc51",
   "metadata": {
    "collapsed": true
   },
   "outputs": [],
   "source": [
    "#학점 수 더한 데이터프레임 생성\n",
    "df_list = [df['학점'].sum(),\n",
    "ge_df['학점'].sum(),\n",
    "sw_ge_df['학점'].sum(),\n",
    "major_df['학점'].sum(),\n",
    "etc_df['학점'].sum()]\n",
    "\n",
    "sum_df = pd.DataFrame([[140,20,20,79,0],df_list],columns=['전체 학점','교양 학점','전공소양 학점','전공 학점','기타 학점'],index=['필요 최소 학점','현재 학점'])\n",
    "\n",
    "sum_df.loc['남은 학점'] = -sum_df.diff().iloc[1] #필요 학점 - 현재 학점 값\n"
   ]
  },
  {
   "cell_type": "code",
   "execution_count": 3,
   "id": "aa0f4c5c",
   "metadata": {
    "collapsed": true
   },
   "outputs": [
    {
     "ename": "NameError",
     "evalue": "name 'sum_df' is not defined",
     "output_type": "error",
     "traceback": [
      "\u001b[1;31m---------------------------------------------------------------------------\u001b[0m",
      "\u001b[1;31mNameError\u001b[0m                                 Traceback (most recent call last)",
      "\u001b[1;32m~\\AppData\\Local\\Temp/ipykernel_6300/3384595553.py\u001b[0m in \u001b[0;36m<module>\u001b[1;34m\u001b[0m\n\u001b[0;32m      1\u001b[0m \u001b[1;31m#학점 합 확인\u001b[0m\u001b[1;33m\u001b[0m\u001b[1;33m\u001b[0m\u001b[0m\n\u001b[1;32m----> 2\u001b[1;33m \u001b[0msum_df\u001b[0m\u001b[1;33m\u001b[0m\u001b[1;33m\u001b[0m\u001b[0m\n\u001b[0m",
      "\u001b[1;31mNameError\u001b[0m: name 'sum_df' is not defined"
     ]
    }
   ],
   "source": [
    "#학점 합 확인\n",
    "sum_df"
   ]
  }
 ],
 "metadata": {
  "kernelspec": {
   "display_name": "Python 3 (ipykernel)",
   "language": "python",
   "name": "python3"
  },
  "language_info": {
   "codemirror_mode": {
    "name": "ipython",
    "version": 3
   },
   "file_extension": ".py",
   "mimetype": "text/x-python",
   "name": "python",
   "nbconvert_exporter": "python",
   "pygments_lexer": "ipython3",
   "version": "3.9.7"
  }
 },
 "nbformat": 4,
 "nbformat_minor": 5
}
